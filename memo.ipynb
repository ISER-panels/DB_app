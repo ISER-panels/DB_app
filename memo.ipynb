{
 "cells": [
  {
   "cell_type": "code",
   "execution_count": 2,
   "metadata": {},
   "outputs": [],
   "source": [
    "import os\n",
    "import numpy as np\n",
    "import pandas as pd\n",
    "import shutil"
   ]
  },
  {
   "cell_type": "code",
   "execution_count": 3,
   "metadata": {},
   "outputs": [
    {
     "data": {
      "text/plain": [
       "odict_keys(['五段階心理的質問', '時間割引率', 'リスク選好', '利他性', '相対的評価', '基本属性', '学生時代', '家族', '子供', '遺産相続', '将来予測', '消費計画', '健康管理', '生活習慣', '宗教', '就業', '資産', 'その他'])"
      ]
     },
     "execution_count": 3,
     "metadata": {},
     "output_type": "execute_result"
    }
   ],
   "source": [
    "data_url=\"https://github.com/RyoMikami/JHPS_CPS_streamlit/raw/master/Data.xlsx\"\n",
    "data=pd.read_excel(data_url, dtype=object,sheet_name=None, na_values=(''),header=0)\n",
    "sheet_name=data.keys()\n",
    "sheet_name"
   ]
  },
  {
   "cell_type": "code",
   "execution_count": 15,
   "metadata": {},
   "outputs": [],
   "source": [
    "for daimon in sheet_name:\n",
    "    Daimon=data[daimon]\n",
    "    Daimon=Daimon[~Daimon.duplicated(\"問題番号\")]\n",
    "    for syoumon in list(set(Daimon[\"小問区分\"])) :\n",
    "        tmp=Daimon[Daimon[\"小問区分\"]==syoumon]\n",
    "        new_dir_path = \"Text/\"+daimon+\"/\"+syoumon\n",
    "        shutil.rmtree(new_dir_path) # txtフォルダをクリア\n",
    "        os.mkdir(new_dir_path)\n",
    "        new_dir_path=new_dir_path+\"/\"+syoumon+\".txt\"\n",
    "        f = open(new_dir_path, 'a', encoding='UTF-8')\n",
    "\n",
    "        for i in tmp.index:\n",
    "            print('''\n",
    "            \n",
    "            \n",
    "            ''', file=f)\n",
    "            print(str(\"問題番号\")+str(tmp.loc[i][\"問題番号\"])+str(' : \\n'), file=f)\n",
    "            print(\"```\\n  \", file=f)\n",
    "            print('\\n\\n'.join(tmp.loc[i][\"問題文\"].splitlines())+str('\\n'), file=f)\n",
    "            print(\"```\\n  \", file=f)\n",
    "\n",
    "        f.close()\n"
   ]
  },
  {
   "cell_type": "code",
   "execution_count": 20,
   "metadata": {},
   "outputs": [
    {
     "data": {
      "text/plain": [
       "'25:'"
      ]
     },
     "execution_count": 20,
     "metadata": {},
     "output_type": "execute_result"
    }
   ],
   "source": [
    "str(tmp.loc[i][\"問題番号\"])+str(\":\")"
   ]
  },
  {
   "cell_type": "code",
   "execution_count": 24,
   "metadata": {},
   "outputs": [],
   "source": [
    "for daimon in sheet_name:\n",
    "    new_dir_path = \"Text/\"+daimon+\".txt\"\n",
    "    f = open(new_dir_path, 'a', encoding='UTF-8')\n",
    "    f.close()\n"
   ]
  },
  {
   "cell_type": "code",
   "execution_count": 26,
   "metadata": {},
   "outputs": [],
   "source": [
    "for daimon in sheet_name:\n",
    "    Daimon=data[daimon]\n",
    "    Daimon=Daimon[~Daimon.duplicated(\"問題番号\")]\n",
    "    for syoumon in list(set(Daimon[\"小問区分\"])) :\n",
    "        tmp=Daimon[Daimon[\"小問区分\"]==syoumon]\n",
    "        new_dir_path = \"Text/\"+daimon+\"/\"+syoumon+\".txt\"\n",
    "        f = open(new_dir_path, 'a', encoding='UTF-8')\n"
   ]
  },
  {
   "cell_type": "markdown",
   "metadata": {},
   "source": [
    "### 埋める"
   ]
  },
  {
   "cell_type": "code",
   "execution_count": 120,
   "metadata": {},
   "outputs": [],
   "source": [
    "for daimon in sheet_name:\n",
    "    Daimon=data[daimon]\n",
    "    for i in Daimon.index:\n",
    "        sentence=Daimon.loc[i,\"問題文\"]\n",
    "        if sentence is np.nan and i!=0 :\n",
    "            Daimon.loc[i,\"問題文\"]=Daimon.loc[i-1,\"問題文\"]\n",
    "        sentence=Daimon.loc[i,\"問題文2\"]\n",
    "        if sentence is np.nan and i!=0 :\n",
    "            Daimon.loc[i,\"問題文2\"]=Daimon.loc[i-1,\"問題文2\"]\n",
    "        sentence=Daimon.loc[i,\"問題文3\"]\n",
    "        if sentence is np.nan and i!=0 :\n",
    "            Daimon.loc[i,\"問題文3\"]=Daimon.loc[i-1,\"問題文3\"]\n",
    "        data[daimon]=Daimon\n",
    "    \n",
    "#     Daimon=Daimon[~Daimon.duplicated(\"問題番号\")]\n",
    "#     for syoumon in list(set(Daimon[\"小問区分\"])) :\n",
    "#         tmp=Daimon[Daimon[\"小問区分\"]==syoumon]\n",
    "#         new_dir_path = \"Text/\"+daimon+\"/\"+syoumon+\".txt\"\n",
    "#         f = open(new_dir_path, 'a', encoding='UTF-8')\n"
   ]
  },
  {
   "cell_type": "code",
   "execution_count": 122,
   "metadata": {},
   "outputs": [],
   "source": [
    "Data_new = pd.ExcelWriter(\"Data20210714.xlsx\")    \n",
    "for daimon in  data.keys():\n",
    "    Daimon=data[daimon]\n",
    "    Daimon.to_excel(Data_new, index=False,sheet_name= daimon)\n",
    "\n",
    "# エクセルファイルを保存\n",
    "Data_new.save()    "
   ]
  },
  {
   "cell_type": "code",
   "execution_count": 119,
   "metadata": {},
   "outputs": [
    {
     "data": {
      "text/plain": [
       "False"
      ]
     },
     "execution_count": 119,
     "metadata": {},
     "output_type": "execute_result"
    }
   ],
   "source": [
    "sentence is np.nan and i==0 "
   ]
  },
  {
   "cell_type": "code",
   "execution_count": 84,
   "metadata": {},
   "outputs": [
    {
     "data": {
      "text/plain": [
       "[0,\n",
       " 1,\n",
       " 2,\n",
       " 3,\n",
       " 4,\n",
       " 5,\n",
       " 6,\n",
       " 7,\n",
       " 8,\n",
       " 9,\n",
       " 10,\n",
       " 11,\n",
       " 12,\n",
       " 13,\n",
       " 14,\n",
       " 15,\n",
       " 16,\n",
       " 17,\n",
       " 18,\n",
       " 19,\n",
       " 20,\n",
       " 21,\n",
       " 22,\n",
       " 23,\n",
       " 24,\n",
       " 25,\n",
       " 26,\n",
       " 27,\n",
       " 28,\n",
       " 29,\n",
       " 30,\n",
       " 31,\n",
       " 32,\n",
       " 33,\n",
       " 34,\n",
       " 35,\n",
       " 36,\n",
       " 37,\n",
       " 38,\n",
       " 39,\n",
       " 40,\n",
       " 41,\n",
       " 42,\n",
       " 43,\n",
       " 44,\n",
       " 45,\n",
       " 46,\n",
       " 47,\n",
       " 48,\n",
       " 49,\n",
       " 50,\n",
       " 51,\n",
       " 52,\n",
       " 53,\n",
       " 54,\n",
       " 55,\n",
       " 56,\n",
       " 57,\n",
       " 58,\n",
       " 59,\n",
       " 60,\n",
       " 61,\n",
       " 62,\n",
       " 63,\n",
       " 64,\n",
       " 65,\n",
       " 66,\n",
       " 67,\n",
       " 68,\n",
       " 69,\n",
       " 70,\n",
       " 71,\n",
       " 72,\n",
       " 73,\n",
       " 74,\n",
       " 75,\n",
       " 76,\n",
       " 77,\n",
       " 78,\n",
       " 79,\n",
       " 80,\n",
       " 81,\n",
       " 82,\n",
       " 83,\n",
       " 84,\n",
       " 85,\n",
       " 86,\n",
       " 87,\n",
       " 88,\n",
       " 89,\n",
       " 90,\n",
       " 91,\n",
       " 92,\n",
       " 93,\n",
       " 94,\n",
       " 95,\n",
       " 96,\n",
       " 97,\n",
       " 98,\n",
       " 99,\n",
       " 100,\n",
       " 101,\n",
       " 102,\n",
       " 103,\n",
       " 104,\n",
       " 105,\n",
       " 106,\n",
       " 107,\n",
       " 108,\n",
       " 109,\n",
       " 110,\n",
       " 111,\n",
       " 112,\n",
       " 113,\n",
       " 114,\n",
       " 115,\n",
       " 116,\n",
       " 117,\n",
       " 118,\n",
       " 119,\n",
       " 120,\n",
       " 121,\n",
       " 122,\n",
       " 123,\n",
       " 124,\n",
       " 125,\n",
       " 126,\n",
       " 127,\n",
       " 128,\n",
       " 129,\n",
       " 130,\n",
       " 131,\n",
       " 132,\n",
       " 133,\n",
       " 134,\n",
       " 135,\n",
       " 136,\n",
       " 137,\n",
       " 138,\n",
       " 139,\n",
       " 140,\n",
       " 141,\n",
       " 142,\n",
       " 143,\n",
       " 144,\n",
       " 145,\n",
       " 146,\n",
       " 147,\n",
       " 148,\n",
       " 149,\n",
       " 150,\n",
       " 151,\n",
       " 152,\n",
       " 153,\n",
       " 154,\n",
       " 155,\n",
       " 156,\n",
       " 157,\n",
       " 158,\n",
       " 159,\n",
       " 160,\n",
       " 161,\n",
       " 162,\n",
       " 163,\n",
       " 164,\n",
       " 165,\n",
       " 166,\n",
       " 167,\n",
       " 168,\n",
       " 169,\n",
       " 170,\n",
       " 171,\n",
       " 172,\n",
       " 173,\n",
       " 174,\n",
       " 175,\n",
       " 176,\n",
       " 177,\n",
       " 178,\n",
       " 179,\n",
       " 180,\n",
       " 181,\n",
       " 182,\n",
       " 183]"
      ]
     },
     "execution_count": 84,
     "metadata": {},
     "output_type": "execute_result"
    }
   ],
   "source": []
  },
  {
   "cell_type": "code",
   "execution_count": 61,
   "metadata": {},
   "outputs": [
    {
     "data": {
      "text/plain": [
       "[]"
      ]
     },
     "execution_count": 61,
     "metadata": {},
     "output_type": "execute_result"
    }
   ],
   "source": [
    "data_option1=data[\"五段階心理的質問\"]\n",
    "data_option2=data_option1[data_option1[\"小問区分\"]==data_option1[\"小問区分\"].unique()[0]]\n",
    "data_option3=data_option2[data_option2[\"問題番号\"]==data_option2[\"問題番号\"].unique()[0]]\n",
    "list(data_option3[~data_option3[\"問題文2\"].isnull()][\"問題文2\"].unique())"
   ]
  },
  {
   "cell_type": "code",
   "execution_count": 71,
   "metadata": {},
   "outputs": [
    {
     "data": {
      "text/plain": [
       "[]"
      ]
     },
     "execution_count": 71,
     "metadata": {},
     "output_type": "execute_result"
    }
   ],
   "source": [
    "data_option1=data[\"五段階心理的質問\"]\n",
    "data_option2=data_option1[data_option1[\"小問区分\"]==data_option1[\"小問区分\"].unique()[0]]\n",
    "data_option3=data_option2[data_option2[\"問題番号\"]==data_option2[\"問題番号\"].unique()[0]]\n",
    "\n",
    "list(data_option3[~data_option3[\"問題文2\"].isnull()][\"問題文2\"].unique())\n",
    "\n"
   ]
  },
  {
   "cell_type": "code",
   "execution_count": 66,
   "metadata": {},
   "outputs": [
    {
     "data": {
      "text/plain": [
       "'1：月収が半々の確率で現在の月収の2倍になるか、現在の月収の30%減になる仕事\\n2：あなたの現在の月収の5%増しに確定している仕事'"
      ]
     },
     "execution_count": 66,
     "metadata": {},
     "output_type": "execute_result"
    }
   ],
   "source": [
    "data_option1=data[\"リスク選好\"]\n",
    "data_option2=data_option1[data_option1[\"小問区分\"]==data_option1[\"小問区分\"].unique()[0]]\n",
    "data_option3=data_option2[data_option2[\"問題番号\"]==data_option2[\"問題番号\"].unique()[0]]\n",
    "\n",
    "data_option4=data_option3[data_option3[\"問題文2\"]==list(data_option3[~data_option3[\"問題文2\"].isnull()][\"問題文2\"])[0]]\n",
    "\n",
    "data_option4\n",
    "\n",
    "list(data_option3[~data_option3[\"問題文2\"].isnull()][\"問題文2\"])[0]"
   ]
  },
  {
   "cell_type": "code",
   "execution_count": 72,
   "metadata": {},
   "outputs": [
    {
     "data": {
      "text/plain": [
       "['【1を選択した人】\\n1.1:月収が半々の確率で現在の月収の2倍になるか現在の月収の半分になる仕事\\n1.2:月収が現在の月収の5%増しに確定している仕事',\n",
       " '【2を選択した人】\\n2.1:月収が半々の確率で現在の月収の2倍になるか現在の月収の10%減になる仕事\\n2.2:月収が現在の月収の5%増しに確定している仕事',\n",
       " '【1を選択した人】\\n1.1:月収が半々の確率で現在の月収の20%増しになるか現在の月収の10%減になる仕事\\n1.2:月収が現在の月収の5%増しに確定している仕事',\n",
       " '【2を選択した人】\\n2.1:月収が半々の確率で現在の月収の50%増しになるか現在の月収の10%減になる仕事\\n2.2:月収が現在の月収の5%増しに確定している仕事',\n",
       " '【1を選択した人】\\n1.1:月収が半々の確率で現在の月収の30%増しになるか現在の月収の10%減になる仕事\\n1.2:月収が現在の月収の5%増しに確定している仕事',\n",
       " '【2を選択した人】\\n2.1:月収が半々の確率で現在の月収の200%増しになるか現在の月収の10%減になる仕事\\n2.2:月収が現在の月収の5%増しに確定している仕事',\n",
       " '【1を選択した人】\\n1.1:月収が半々の確率で現在の月収の30%増しになるか現在の月収の10%減になる仕事\\n1.2:月収が現在の月収の3%増しに確定している仕事',\n",
       " '【2を選択した人】\\n2.1:月収が半々の確率で現在の月収の200%増しになるか現在の月収の10%減になる仕事\\n2.2:月収が現在の月収の3%増しに確定している仕事',\n",
       " '【1を選択した人】\\n1.1:月収が半々の確率で現在の月収の30%増しになるか現在の月収の10%減になる仕事\\n1.2:月収が現在の月収の0.5%増しに確定している仕事',\n",
       " '【2を選択した人】\\n2.1:月収が半々の確率で現在の月収の200%増しになるか現在の月収の10%減になる仕事\\n2.2:月収が現在の月収の0.5%増しに確定している仕事']"
      ]
     },
     "execution_count": 72,
     "metadata": {},
     "output_type": "execute_result"
    }
   ],
   "source": [
    "data_option1=data[\"リスク選好\"]\n",
    "data_option2=data_option1[data_option1[\"小問区分\"]==data_option1[\"小問区分\"].unique()[0]]\n",
    "data_option3=data_option2[data_option2[\"問題番号\"]==data_option2[\"問題番号\"].unique()[0]]\n",
    "list(data_option3[~data_option3[\"問題文3\"].isnull()][\"問題文3\"].unique())"
   ]
  },
  {
   "cell_type": "code",
   "execution_count": null,
   "metadata": {},
   "outputs": [],
   "source": []
  }
 ],
 "metadata": {
  "kernelspec": {
   "display_name": "Python 3",
   "language": "python",
   "name": "python3"
  },
  "language_info": {
   "codemirror_mode": {
    "name": "ipython",
    "version": 3
   },
   "file_extension": ".py",
   "mimetype": "text/x-python",
   "name": "python",
   "nbconvert_exporter": "python",
   "pygments_lexer": "ipython3",
   "version": "3.7.4"
  }
 },
 "nbformat": 4,
 "nbformat_minor": 4
}
