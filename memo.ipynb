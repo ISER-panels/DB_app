{
 "cells": [
  {
   "cell_type": "code",
   "execution_count": 2,
   "metadata": {},
   "outputs": [],
   "source": [
    "import os\n",
    "import numpy as np\n",
    "import pandas as pd\n",
    "import shutil"
   ]
  },
  {
   "cell_type": "code",
   "execution_count": 152,
   "metadata": {},
   "outputs": [
    {
     "data": {
      "text/plain": [
       "odict_keys(['五段階心理的質問', '時間割引率', 'リスク選好', '利他性', '相対的評価', '基本属性', '学生時代', '家族', '子供', '遺産相続', '将来予測', '消費計画', '健康管理', '生活習慣', '宗教', '就業', '資産', 'その他'])"
      ]
     },
     "execution_count": 152,
     "metadata": {},
     "output_type": "execute_result"
    }
   ],
   "source": [
    "data_url=\"https://github.com/RyoMikami/JHPS_CPS_streamlit/raw/master/Data.xlsx\"\n",
    "data=pd.read_excel(data_url, dtype=object,sheet_name=None, na_values=(''),header=0)\n",
    "sheet_name=data.keys()\n",
    "sheet_name"
   ]
  },
  {
   "cell_type": "code",
   "execution_count": 150,
   "metadata": {},
   "outputs": [],
   "source": [
    "for daimon in sheet_name:\n",
    "    Daimon=data[daimon]\n",
    "    Daimon=Daimon[~Daimon.duplicated(\"問題番号\")]\n",
    "    for syoumon in list(set(Daimon[\"小問区分\"])) :\n",
    "        tmp=Daimon[Daimon[\"小問区分\"]==syoumon]\n",
    "        new_dir_path = \"Text/\"+daimon+\"/\"+syoumon\n",
    "        shutil.rmtree(new_dir_path) # txtフォルダをクリア\n",
    "        os.mkdir(new_dir_path)\n",
    "        new_dir_path=new_dir_path+\"/\"+syoumon+\".txt\"\n",
    "        f = open(new_dir_path, 'a', encoding='UTF-8')\n",
    "\n",
    "        for i in tmp.index:\n",
    "            print('''\n",
    "            \n",
    "            \n",
    "            ''', file=f)\n",
    "            print(str(\"問題番号\")+str(tmp.loc[i][\"問題番号\"])+str(' : \\n'), file=f)\n",
    "            print(\"```\\n  \", file=f)\n",
    "            print('\\n\\n'.join(tmp.loc[i][\"問題文\"].splitlines())+str('\\n'), file=f)\n",
    "            print(\"```\\n  \", file=f)\n",
    "\n",
    "        f.close()\n"
   ]
  },
  {
   "cell_type": "code",
   "execution_count": 151,
   "metadata": {},
   "outputs": [
    {
     "data": {
      "text/plain": [
       "'25:'"
      ]
     },
     "execution_count": 151,
     "metadata": {},
     "output_type": "execute_result"
    }
   ],
   "source": [
    "str(tmp.loc[i][\"問題番号\"])+str(\":\")"
   ]
  },
  {
   "cell_type": "code",
   "execution_count": 24,
   "metadata": {},
   "outputs": [],
   "source": [
    "for daimon in sheet_name:\n",
    "    new_dir_path = \"Text/\"+daimon+\".txt\"\n",
    "    f = open(new_dir_path, 'a', encoding='UTF-8')\n",
    "    f.close()\n"
   ]
  },
  {
   "cell_type": "code",
   "execution_count": 26,
   "metadata": {},
   "outputs": [],
   "source": [
    "for daimon in sheet_name:\n",
    "    Daimon=data[daimon]\n",
    "    Daimon=Daimon[~Daimon.duplicated(\"問題番号\")]\n",
    "    for syoumon in list(set(Daimon[\"小問区分\"])) :\n",
    "        tmp=Daimon[Daimon[\"小問区分\"]==syoumon]\n",
    "        new_dir_path = \"Text/\"+daimon+\"/\"+syoumon+\".txt\"\n",
    "        f = open(new_dir_path, 'a', encoding='UTF-8')\n"
   ]
  },
  {
   "cell_type": "markdown",
   "metadata": {},
   "source": [
    "### 埋める"
   ]
  },
  {
   "cell_type": "code",
   "execution_count": 153,
   "metadata": {},
   "outputs": [],
   "source": [
    "for daimon in sheet_name:\n",
    "    Daimon=data[daimon]\n",
    "    for i in Daimon.index:\n",
    "        sentence=Daimon.loc[i,\"問題文\"]\n",
    "        \n",
    "        if i!=0:\n",
    "            Same_question=Daimon.loc[i,\"問題番号\"]==Daimon.loc[i-1,\"問題番号\"]\n",
    "        else:\n",
    "            Same_question=False\n",
    "        \n",
    "        if sentence is np.nan and i!=0 and Same_question:\n",
    "            Daimon.loc[i,\"問題文\"]=Daimon.loc[i-1,\"問題文\"]\n",
    "\n",
    "            \n",
    "        sentence=Daimon.loc[i,\"問題文2\"]\n",
    "        if i!=0:\n",
    "            Same_question=Daimon.loc[i,\"問題文\"]==Daimon.loc[i-1,\"問題文\"]\n",
    "        else:\n",
    "            Same_question=False\n",
    "        if sentence is np.nan and i!=0 and Same_question:\n",
    "            Daimon.loc[i,\"問題文2\"]=Daimon.loc[i-1,\"問題文2\"]\n",
    "\n",
    "        \n",
    "        \n",
    "        sentence=Daimon.loc[i,\"問題文3\"]\n",
    "        if i!=0:\n",
    "            Same_question=Daimon.loc[i,\"問題文2\"]==Daimon.loc[i-1,\"問題文2\"]\n",
    "        else:\n",
    "            Same_question=False\n",
    "        if sentence is np.nan and i!=0 and Same_question:\n",
    "            Daimon.loc[i,\"問題文3\"]=Daimon.loc[i-1,\"問題文3\"]\n",
    "        data[daimon]=Daimon\n",
    "    \n",
    "#     Daimon=Daimon[~Daimon.duplicated(\"問題番号\")]\n",
    "#     for syoumon in list(set(Daimon[\"小問区分\"])) :\n",
    "#         tmp=Daimon[Daimon[\"小問区分\"]==syoumon]\n",
    "#         new_dir_path = \"Text/\"+daimon+\"/\"+syoumon+\".txt\"\n",
    "#         f = open(new_dir_path, 'a', encoding='UTF-8')\n"
   ]
  },
  {
   "cell_type": "code",
   "execution_count": 154,
   "metadata": {},
   "outputs": [],
   "source": [
    "Data_new = pd.ExcelWriter(\"db.xlsx\")    \n",
    "for daimon in  data.keys():\n",
    "    Daimon=data[daimon]\n",
    "    Daimon.to_excel(Data_new, index=False,sheet_name= daimon)\n",
    "\n",
    "# エクセルファイルを保存\n",
    "Data_new.save()    "
   ]
  },
  {
   "cell_type": "code",
   "execution_count": 139,
   "metadata": {},
   "outputs": [
    {
     "data": {
      "text/plain": [
       "False"
      ]
     },
     "execution_count": 139,
     "metadata": {},
     "output_type": "execute_result"
    }
   ],
   "source": [
    "i=70\n",
    "sentence=Daimon.loc[i,\"問題文\"]\n",
    "sentence is np.nan and i!=0 and Same_question"
   ]
  },
  {
   "cell_type": "code",
   "execution_count": 138,
   "metadata": {},
   "outputs": [
    {
     "data": {
      "text/plain": [
       "False"
      ]
     },
     "execution_count": 138,
     "metadata": {},
     "output_type": "execute_result"
    }
   ],
   "source": [
    "if i!=0:\n",
    "    Same_question=Daimon.loc[i,\"問題番号\"]==Daimon.loc[i-1,\"問題番号\"]\n",
    "else:\n",
    "    Same_question=False\n",
    "Same_question        "
   ]
  },
  {
   "cell_type": "code",
   "execution_count": 61,
   "metadata": {},
   "outputs": [
    {
     "data": {
      "text/plain": [
       "[]"
      ]
     },
     "execution_count": 61,
     "metadata": {},
     "output_type": "execute_result"
    }
   ],
   "source": [
    "data_option1=data[\"五段階心理的質問\"]\n",
    "data_option2=data_option1[data_option1[\"小問区分\"]==data_option1[\"小問区分\"].unique()[0]]\n",
    "data_option3=data_option2[data_option2[\"問題番号\"]==data_option2[\"問題番号\"].unique()[0]]\n",
    "list(data_option3[~data_option3[\"問題文2\"].isnull()][\"問題文2\"].unique())"
   ]
  },
  {
   "cell_type": "code",
   "execution_count": 148,
   "metadata": {},
   "outputs": [
    {
     "data": {
      "text/plain": [
       "1"
      ]
     },
     "execution_count": 148,
     "metadata": {},
     "output_type": "execute_result"
    }
   ],
   "source": [
    "Daimon=data[\"リスク選好\"]\n",
    "sentence=Daimon.loc[i,\"問題文\"]\n",
    "i=3        \n",
    "if i!=0:\n",
    "    Same_question=Daimon.loc[i,\"問題番号\"]==Daimon.loc[i-1,\"問題番号\"]\n",
    "else:\n",
    "    Same_question=False\n",
    "\n",
    "if sentence is np.nan and i!=0 and Same_question:\n",
    "    Daimon.loc[i,\"問題文\"]=Daimon.loc[i-1,\"問題文\"]\n",
    "\n",
    "sentence=Daimon.loc[i,\"問題文2\"]\n",
    "if i!=0:\n",
    "    Same_question=Daimon.loc[i,\"問題文\"]==Daimon.loc[i-1,\"問題文\"]\n",
    "else:\n",
    "    Same_question=False\n",
    "\n",
    "if sentence is np.nan and i!=0 and Same_question:\n",
    "    Daimon.loc[i,\"問題文2\"]=Daimon.loc[i-1,\"問題文2\"]\n",
    "sentence=Daimon.loc[i,\"問題文3\"]\n",
    "if sentence is np.nan and i!=0 and Same_question:\n",
    "    Daimon.loc[i,\"問題文3\"]=Daimon.loc[i-1,\"問題文3\"]\n",
    "data[daimon]=Daimon\n"
   ]
  },
  {
   "cell_type": "code",
   "execution_count": 66,
   "metadata": {},
   "outputs": [
    {
     "data": {
      "text/plain": [
       "'1：月収が半々の確率で現在の月収の2倍になるか、現在の月収の30%減になる仕事\\n2：あなたの現在の月収の5%増しに確定している仕事'"
      ]
     },
     "execution_count": 66,
     "metadata": {},
     "output_type": "execute_result"
    }
   ],
   "source": [
    "data_option1=data[\"リスク選好\"]\n",
    "data_option2=data_option1[data_option1[\"小問区分\"]==data_option1[\"小問区分\"].unique()[0]]\n",
    "data_option3=data_option2[data_option2[\"問題番号\"]==data_option2[\"問題番号\"].unique()[0]]\n",
    "\n",
    "data_option4=data_option3[data_option3[\"問題文2\"]==list(data_option3[~data_option3[\"問題文2\"].isnull()][\"問題文2\"])[0]]\n",
    "\n",
    "data_option4\n",
    "\n",
    "list(data_option3[~data_option3[\"問題文2\"].isnull()][\"問題文2\"])[0]"
   ]
  },
  {
   "cell_type": "code",
   "execution_count": 72,
   "metadata": {},
   "outputs": [
    {
     "data": {
      "text/plain": [
       "['【1を選択した人】\\n1.1:月収が半々の確率で現在の月収の2倍になるか現在の月収の半分になる仕事\\n1.2:月収が現在の月収の5%増しに確定している仕事',\n",
       " '【2を選択した人】\\n2.1:月収が半々の確率で現在の月収の2倍になるか現在の月収の10%減になる仕事\\n2.2:月収が現在の月収の5%増しに確定している仕事',\n",
       " '【1を選択した人】\\n1.1:月収が半々の確率で現在の月収の20%増しになるか現在の月収の10%減になる仕事\\n1.2:月収が現在の月収の5%増しに確定している仕事',\n",
       " '【2を選択した人】\\n2.1:月収が半々の確率で現在の月収の50%増しになるか現在の月収の10%減になる仕事\\n2.2:月収が現在の月収の5%増しに確定している仕事',\n",
       " '【1を選択した人】\\n1.1:月収が半々の確率で現在の月収の30%増しになるか現在の月収の10%減になる仕事\\n1.2:月収が現在の月収の5%増しに確定している仕事',\n",
       " '【2を選択した人】\\n2.1:月収が半々の確率で現在の月収の200%増しになるか現在の月収の10%減になる仕事\\n2.2:月収が現在の月収の5%増しに確定している仕事',\n",
       " '【1を選択した人】\\n1.1:月収が半々の確率で現在の月収の30%増しになるか現在の月収の10%減になる仕事\\n1.2:月収が現在の月収の3%増しに確定している仕事',\n",
       " '【2を選択した人】\\n2.1:月収が半々の確率で現在の月収の200%増しになるか現在の月収の10%減になる仕事\\n2.2:月収が現在の月収の3%増しに確定している仕事',\n",
       " '【1を選択した人】\\n1.1:月収が半々の確率で現在の月収の30%増しになるか現在の月収の10%減になる仕事\\n1.2:月収が現在の月収の0.5%増しに確定している仕事',\n",
       " '【2を選択した人】\\n2.1:月収が半々の確率で現在の月収の200%増しになるか現在の月収の10%減になる仕事\\n2.2:月収が現在の月収の0.5%増しに確定している仕事']"
      ]
     },
     "execution_count": 72,
     "metadata": {},
     "output_type": "execute_result"
    }
   ],
   "source": [
    "data_option1=data[\"リスク選好\"]\n",
    "data_option2=data_option1[data_option1[\"小問区分\"]==data_option1[\"小問区分\"].unique()[0]]\n",
    "data_option3=data_option2[data_option2[\"問題番号\"]==data_option2[\"問題番号\"].unique()[0]]\n",
    "list(data_option3[~data_option3[\"問題文3\"].isnull()][\"問題文3\"].unique())"
   ]
  },
  {
   "cell_type": "code",
   "execution_count": null,
   "metadata": {},
   "outputs": [],
   "source": []
  }
 ],
 "metadata": {
  "kernelspec": {
   "display_name": "Python 3",
   "language": "python",
   "name": "python3"
  },
  "language_info": {
   "codemirror_mode": {
    "name": "ipython",
    "version": 3
   },
   "file_extension": ".py",
   "mimetype": "text/x-python",
   "name": "python",
   "nbconvert_exporter": "python",
   "pygments_lexer": "ipython3",
   "version": "3.7.4"
  }
 },
 "nbformat": 4,
 "nbformat_minor": 4
}
